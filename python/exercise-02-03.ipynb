{
 "cells": [
  {
   "attachments": {},
   "cell_type": "markdown",
   "id": "2d19f6f3",
   "metadata": {},
   "source": [
    "<b> 02 and 03 Exercises </b>"
   ]
  },
  {
   "attachments": {},
   "cell_type": "markdown",
   "id": "fc841134",
   "metadata": {},
   "source": [
    "<b> 02 Exercises - Data Structures <b>"
   ]
  },
  {
   "attachments": {},
   "cell_type": "markdown",
   "id": "62ff64de",
   "metadata": {},
   "source": [
    "Take the following two lists. Create a third list by picking a odd-index elements from the first list and even-index elements from the second.\n",
    "\n",
    "listOne = [3, 6, 9, 12, 15, 18, 21]\n",
    "listTwo = [4, 8, 12, 16, 20, 24, 28]"
   ]
  },
  {
   "cell_type": "code",
   "execution_count": 1,
   "id": "7554ca94",
   "metadata": {},
   "outputs": [
    {
     "name": "stdout",
     "output_type": "stream",
     "text": [
      "[6, 12, 18, 4, 12, 20, 28]\n"
     ]
    }
   ],
   "source": [
    "listOne = [3, 6, 9, 12, 15, 18, 21]\n",
    "listTwo = [4, 8, 12, 16, 20, 24, 28]\n",
    "\n",
    "listThree = listOne[1::2] + listTwo[::2]\n",
    "# This line creates a variable \"listThree\".\n",
    "# It is defined by an appendage of \"listOne\" and \"listTwo\", which are both sliced.\n",
    "# Slicers are used on both lists as follows:\n",
    "#   listOne: starts at index 1 (odd), stops at the end, steps by 2\n",
    "#   listTwo: starts at index 0 (even), stops at the end, steps by 2\n",
    "\n",
    "print(listThree)"
   ]
  },
  {
   "attachments": {},
   "cell_type": "markdown",
   "id": "6ab75264",
   "metadata": {},
   "source": [
    "Take the following list. Slice it into three equal chunks and reverse each list.\n",
    "\n",
    "sampleList = [11, 45, 8, 23, 14, 12, 78, 45, 89]"
   ]
  },
  {
   "cell_type": "code",
   "execution_count": 2,
   "id": "9f89b102",
   "metadata": {},
   "outputs": [
    {
     "name": "stdout",
     "output_type": "stream",
     "text": [
      "[8, 45, 11]\n",
      "[12, 14, 23]\n",
      "[89, 45, 78]\n"
     ]
    }
   ],
   "source": [
    "sampleList = [11, 45, 8, 23, 14, 12, 78, 45, 89]\n",
    "\n",
    "length = len(sampleList)\n",
    "# This line creates a variable \"length\".\n",
    "# Using the len() function, it is defined by the length of \"sampleList\".\n",
    "\n",
    "chunk = length // 3\n",
    "# This line creates a variable \"chunk\".\n",
    "# It is defined by the value of \"length\" divided by 3.\n",
    "\n",
    "slice1 = sampleList[:chunk]\n",
    "slice2 = sampleList[chunk:chunk * 2]\n",
    "slice3 = sampleList[chunk * 2:chunk * 3]\n",
    "# These lines create variables for each slice.\n",
    "# They are defined by the sliced chunks of \"sampleList\".\n",
    "\n",
    "print(slice1[::-1])\n",
    "print(slice2[::-1])\n",
    "print(slice3[::-1])"
   ]
  },
  {
   "attachments": {},
   "cell_type": "markdown",
   "id": "eaa97400",
   "metadata": {},
   "source": [
    "Iterate through a given list and check if a given element already exists in a dictionary as a key’s value. If not, delete it from the list.\n",
    "\n",
    "rollNumber = [47, 64, 69, 37, 76, 83, 95, 97]\n",
    "sampleDict ={'Zach':47, 'Emma':69, 'Kelly':76, 'Jason':97}"
   ]
  },
  {
   "cell_type": "code",
   "execution_count": 3,
   "id": "35ef1997",
   "metadata": {},
   "outputs": [
    {
     "name": "stdout",
     "output_type": "stream",
     "text": [
      "[47, 69, 76, 97]\n"
     ]
    }
   ],
   "source": [
    "rollNumber = [47, 64, 69, 37, 76, 83, 95, 97]\n",
    "sampleDict = {'Zach':47, 'Emma':69, 'Kelly':76, 'Jason':97}\n",
    "\n",
    "for i in rollNumber[:]:\n",
    "    if i not in sampleDict.values():\n",
    "        rollNumber.remove(i)\n",
    "\n",
    "print(rollNumber)"
   ]
  },
  {
   "attachments": {},
   "cell_type": "markdown",
   "id": "b9249698",
   "metadata": {},
   "source": [
    "Write a simple statement to check whether an element exists within a tuple."
   ]
  },
  {
   "cell_type": "code",
   "execution_count": 4,
   "id": "73cc5416",
   "metadata": {},
   "outputs": [
    {
     "name": "stdout",
     "output_type": "stream",
     "text": [
      "3 is in the tuple\n"
     ]
    }
   ],
   "source": [
    "tuple = (1, 2, 3, 4, 5)\n",
    "\n",
    "if 3 in tuple:\n",
    "    print(\"3 is in the tuple\")\n",
    "else:\n",
    "    print(\"3 is not in the tuple\")"
   ]
  },
  {
   "attachments": {},
   "cell_type": "markdown",
   "id": "9c3672b7",
   "metadata": {},
   "source": [
    "Write a Python function to multiply all the numbers in a list."
   ]
  },
  {
   "cell_type": "code",
   "execution_count": 5,
   "id": "ff578435",
   "metadata": {},
   "outputs": [
    {
     "name": "stdout",
     "output_type": "stream",
     "text": [
      "120\n"
     ]
    }
   ],
   "source": [
    "def multiply(numbers):\n",
    "    \"\"\"\n",
    "    This function multiplies all numbers in a list.\n",
    "    \"\"\"\n",
    "    total = 1\n",
    "    for x in numbers:\n",
    "        total *= x\n",
    "    return total\n",
    "\n",
    "list = [1, 2, 3, 4, 5]\n",
    "print(multiply(list))"
   ]
  },
  {
   "attachments": {},
   "cell_type": "markdown",
   "id": "646b97a3",
   "metadata": {},
   "source": [
    "Write a Python program to reverse a string. Hint: Use indexing [start:stop:step]"
   ]
  },
  {
   "cell_type": "code",
   "execution_count": 6,
   "id": "5e35d7ac",
   "metadata": {},
   "outputs": [
    {
     "name": "stdout",
     "output_type": "stream",
     "text": [
      "!desrever neeb sah gnirts sihT\n"
     ]
    }
   ],
   "source": [
    "def reverse_string(string):\n",
    "    return string[::-1]\n",
    "\n",
    "my_string = \"This string has been reversed!\"\n",
    "print(reverse_string(my_string))"
   ]
  },
  {
   "attachments": {},
   "cell_type": "markdown",
   "id": "c825cadc",
   "metadata": {},
   "source": [
    "Describe the difference between floats, integers, and binarys. Bonus: Describe the difference between precision types (i.e float32 and float64) and the relationship it has with system memory."
   ]
  },
  {
   "cell_type": "code",
   "execution_count": 7,
   "id": "5dc3f463",
   "metadata": {},
   "outputs": [],
   "source": [
    "# Integers are whole numbers.\n",
    "# Floats are fractional or decimal numbers.\n",
    "# Binaries are 0's and 1's that represent other numbers depending on their order/sequence."
   ]
  },
  {
   "attachments": {},
   "cell_type": "markdown",
   "id": "1105fac8",
   "metadata": {},
   "source": [
    "Describe the difference between a list, tuple, dict, and set."
   ]
  },
  {
   "cell_type": "code",
   "execution_count": 8,
   "id": "26c78688",
   "metadata": {},
   "outputs": [],
   "source": [
    "# A list is an ordered collection of data that is mutable.\n",
    "# A tuple is an ordered collection of data that is immutable.\n",
    "# A dict is an ordered collection of data stored in key/value pairs that is mutable.\n",
    "# A set is an unordered collection of unique data is is mutable."
   ]
  },
  {
   "attachments": {},
   "cell_type": "markdown",
   "id": "85c3d93e",
   "metadata": {},
   "source": [
    "Describe 3 methods or functions that act upon a list, tuple, dict, and strings (12 total). If citing the same method, describe how it might behave differently between data."
   ]
  },
  {
   "cell_type": "code",
   "execution_count": 9,
   "id": "22e4df06",
   "metadata": {},
   "outputs": [],
   "source": [
    "# list:\n",
    "    # .append(): Adds an element to the end of the list.\n",
    "    # .remove(): Removes the first occurrence of an element from the list.\n",
    "    # .sort():   Sorts the elements in the list in ascending order.\n",
    "\n",
    "# tuple:\n",
    "    # .index(): Returns the index of the first occurrence of an element in the tuple.\n",
    "    # .count(): Returns the number of times an element appears in the tuple.\n",
    "    # len(): Returns the number of elements in the tuple.\n",
    "\n",
    "# dict:\n",
    "    # .get(): Returns the value for a given key in the dictionary.\n",
    "    # .update(): Updates the dictionary with key-value pairs from another dictionary or iterable.\n",
    "    # .pop(): Removes and returns a key-value pair from the dictionary.\n",
    "\n",
    "# string:\n",
    "    # .replace(): Returns a string where all occurrences of a substring are replaced with another substring.\n",
    "    # .split(): Splits a string into a list of substrings based on a specified delimiter.\n",
    "    # .find(): Returns the index of the first occurrence of a substring in a string."
   ]
  },
  {
   "attachments": {},
   "cell_type": "markdown",
   "id": "8a435dab",
   "metadata": {},
   "source": [
    "<b> 03 Exercises - Control Flow <b>"
   ]
  },
  {
   "attachments": {},
   "cell_type": "markdown",
   "id": "da83b7f2",
   "metadata": {},
   "source": [
    "Use a for-loop, iterate over a list, and print each item.\n",
    "\n",
    "list: [1,2,3,4,5,6,7,8,9]"
   ]
  },
  {
   "cell_type": "code",
   "execution_count": 10,
   "id": "4c789431",
   "metadata": {},
   "outputs": [
    {
     "name": "stdout",
     "output_type": "stream",
     "text": [
      "1\n",
      "2\n",
      "3\n",
      "4\n",
      "5\n",
      "6\n",
      "7\n",
      "8\n",
      "9\n"
     ]
    }
   ],
   "source": [
    "list = [1, 2, 3, 4, 5, 6, 7, 8, 9]\n",
    "\n",
    "for item in list:\n",
    "    print(item)"
   ]
  },
  {
   "attachments": {},
   "cell_type": "markdown",
   "id": "4e0e9e7c",
   "metadata": {},
   "source": [
    "Using the last code you wrote, print whether the item is even or odd. Hint: Use an if-else sequence and modulus condition."
   ]
  },
  {
   "cell_type": "code",
   "execution_count": 11,
   "id": "84d6a899",
   "metadata": {},
   "outputs": [
    {
     "name": "stdout",
     "output_type": "stream",
     "text": [
      "1 is odd\n",
      "2 is even\n",
      "3 is odd\n",
      "4 is even\n",
      "5 is odd\n",
      "6 is even\n",
      "7 is odd\n",
      "8 is even\n",
      "9 is odd\n"
     ]
    }
   ],
   "source": [
    "list = [1, 2, 3, 4, 5, 6, 7, 8, 9]\n",
    "\n",
    "for item in list:\n",
    "    if item % 2 == 0:\n",
    "        print(f\"{item} is even\")\n",
    "    else:\n",
    "        print(f\"{item} is odd\")"
   ]
  },
  {
   "attachments": {},
   "cell_type": "markdown",
   "id": "277a4c8d",
   "metadata": {},
   "source": [
    "Using the last code you wrote, break out of the sequence when the for iteration count is greater than 7. Bonus: Make it break out when the prime number count equals 4 (1,2,3, and 7). "
   ]
  },
  {
   "cell_type": "code",
   "execution_count": 12,
   "id": "3ff4656d",
   "metadata": {},
   "outputs": [
    {
     "name": "stdout",
     "output_type": "stream",
     "text": [
      "1 is odd\n",
      "2 is even\n",
      "3 is odd\n",
      "4 is even\n",
      "5 is odd\n",
      "6 is even\n",
      "7 is odd\n"
     ]
    }
   ],
   "source": [
    "list = [1, 2, 3, 4, 5, 6, 7, 8, 9]\n",
    "\n",
    "for item in list:\n",
    "    if item > 7:\n",
    "        break    \n",
    "    elif item % 2 == 0:\n",
    "        print(f\"{item} is even\")\n",
    "    else:\n",
    "        print(f\"{item} is odd\")"
   ]
  },
  {
   "attachments": {},
   "cell_type": "markdown",
   "id": "9cb145d6",
   "metadata": {},
   "source": [
    "<s>Guess a number between 1 to 9 given by the user. Hint: Look into the \"random\" function.</s>\n",
    "\n",
    "Write a python function that generates a random number 1-9, then requires the user to input a guess. If the guess is wrong, output \"wrong\" and request another input. You can also prompt the user if their guess should be higher or lower. If the guess is correct, output \"correct.\" Hint: Look into the \"random\" function."
   ]
  },
  {
   "cell_type": "code",
   "execution_count": 13,
   "id": "c0ed71db",
   "metadata": {},
   "outputs": [
    {
     "name": "stdout",
     "output_type": "stream",
     "text": [
      "4 is too low.\n",
      "6 is too low.\n",
      "Correct! It's 8!\n"
     ]
    }
   ],
   "source": [
    "import random\n",
    "#import 'random' module\n",
    "\n",
    "number = random.randint(1, 9)\n",
    "#create variable 'number'\n",
    "#defined by a random integer between 1-9\n",
    "#using 'randint' function from 'random' module\n",
    "\n",
    "guess = int(input(\"Guess a number between 1 and 9: \"))\n",
    "#create variable 'guess'\n",
    "#defined by user input, converted to an integer\n",
    "#prompt user to input a number between 1-9\n",
    "\n",
    "while guess != number:\n",
    "#start a loop that will continue until user guess is equal to 'number' variable\n",
    "#in other words, the loop will continue WHILE the user guess is not equal to 'number' variable\n",
    "    if guess < number:\n",
    "        print(f\"{guess} is too low.\")\n",
    "        guess = int(input(\"Guess again: \"))\n",
    "    else:\n",
    "        print(f\"{guess} is too high.\")\n",
    "        guess = int(input(\"Guess again: \"))\n",
    "\n",
    "print(f\"Correct! It's {guess}!\")\n",
    "#at this point, the while loop is broken, meaning the user guess was correct"
   ]
  },
  {
   "attachments": {},
   "cell_type": "markdown",
   "id": "50163b68",
   "metadata": {},
   "source": [
    "Check the validity of password input by the user. It must pass these tests:\n",
    "\n",
    "Minimum of 1 letter between [a-z] and 1 letter between [A-Z]\n",
    "\n",
    "Minimum of 1 number between [0-9]\n",
    "\n",
    "Minimum of 1 character from [$#@]\n",
    "\n",
    "Minimum of 6 total characters\n",
    "\n",
    "Maximum of 16 characters"
   ]
  },
  {
   "cell_type": "code",
   "execution_count": 14,
   "id": "fbce996d",
   "metadata": {},
   "outputs": [
    {
     "name": "stdout",
     "output_type": "stream",
     "text": [
      "Valid password\n"
     ]
    }
   ],
   "source": [
    "import re\n",
    "#import 're' module in order to use 'regular expression' related functions\n",
    "#useful/necessary for text processing\n",
    "\n",
    "def pw_check(pw):\n",
    "    \"This function takes a password string (password) as an input (argument) and returns a boolean value to indicate whether or not the password provided is valid based on the criteria.\"\n",
    "    if 6 <= len(pw) <= 16:\n",
    "    #using the length function...\n",
    "    #check if the password is greater-than 6 characters, and less-than 16 characters\n",
    "    #if not, return false\n",
    "        if re.search(r\"[a-z]\", pw) and re.search(r\"[A-Z]\", pw):\n",
    "        #using the search function from 're' module,\n",
    "        #check if the password contains the required characters\n",
    "        #if not, return false\n",
    "            if re.search(r\"[0-9]\", pw):\n",
    "                if re.search(r\"[$#@]\", pw):\n",
    "                    return True\n",
    "    return False\n",
    "\n",
    "password = input(\"Enter your password: \")\n",
    "#create variable 'password'\n",
    "#defined by user input\n",
    "\n",
    "if pw_check(password):\n",
    "    print(\"Valid password\")\n",
    "else:\n",
    "    print(\"Invalid password\")\n",
    "#if the function returns true, print valid\n",
    "#if the function returns false, print invalid"
   ]
  },
  {
   "attachments": {},
   "cell_type": "markdown",
   "id": "57d4ce96",
   "metadata": {},
   "source": [
    "Get input of the age of 3 people by user and determine oldest and youngest among them"
   ]
  },
  {
   "cell_type": "code",
   "execution_count": 17,
   "id": "f8ebc6bb",
   "metadata": {},
   "outputs": [
    {
     "name": "stdout",
     "output_type": "stream",
     "text": [
      "Joel is 27 years old!\n",
      "Ian is 30 years old!\n",
      "Escha is 34 years old!\n",
      "Escha is the oldest at 34 years old.\n",
      "Joel is the youngest at 27 years old.\n"
     ]
    }
   ],
   "source": [
    "name1 = input(\"Enter the name of the first person: \")\n",
    "age1 = int(input(f\"How old is {name1}? \"))\n",
    "print(f\"{name1} is {age1} years old!\")\n",
    "\n",
    "name2 = input(\"Enter the name of the second person: \")\n",
    "age2 = int(input(f\"How old is {name2}? \"))\n",
    "print(f\"{name2} is {age2} years old!\")\n",
    "\n",
    "name3 = input(\"Enter the name of the third person: \")\n",
    "age3 = int(input(f\"How old is {name3}? \"))\n",
    "print(f\"{name3} is {age3} years old!\")\n",
    "#create three variables for each person's respective name\n",
    "    #defined by the user inputs\n",
    "#create three variables for each person's respective age\n",
    "    #defined by the user inputs, converted to integers\n",
    "\n",
    "names = [name1, name2, name3]\n",
    "ages = [age1, age2, age3]\n",
    "#store the three name variables in a list\n",
    "#store the three age variables in a list\n",
    "\n",
    "oldest_index = ages.index(max(ages))\n",
    "youngest_index = ages.index(min(ages))\n",
    "#create two variables for the oldest's and youngest's index\n",
    "#defined by the 'max' and 'min' within the list\n",
    "\n",
    "print(f\"{names[oldest_index]} is the oldest at {ages[oldest_index]} years old.\")\n",
    "print(f\"{names[youngest_index]} is the youngest at {ages[youngest_index]} years old.\")\n"
   ]
  },
  {
   "attachments": {},
   "cell_type": "markdown",
   "id": "49683521",
   "metadata": {},
   "source": [
    "A student will not be allowed to sit in exam if his/her attendance is less than 75%. Print percentage of class attended.\n",
    "\n",
    "Take following input from user: number of classes held, number of classes attended\n",
    "\n",
    "Is student is allowed to sit in exam or not?"
   ]
  },
  {
   "cell_type": "code",
   "execution_count": 25,
   "id": "6a713967",
   "metadata": {},
   "outputs": [
    {
     "name": "stdout",
     "output_type": "stream",
     "text": [
      "10 classes held.\n",
      "8 classes attended.\n",
      "Student has attended 80.0% of class.\n",
      "Therefore, student IS allowed to sit in exam.\n"
     ]
    }
   ],
   "source": [
    "classes_held = int(input(\"Enter the number of classes held: \"))\n",
    "print(f\"{classes_held} classes held.\")\n",
    "\n",
    "classes_attended = int(input(\"Enter the number of classes attended: \"))\n",
    "print(f\"{classes_attended} classes attended.\")\n",
    "\n",
    "att_per = (classes_attended / classes_held) * 100\n",
    "print(f\"Student has attended {att_per}% of class.\")\n",
    "\n",
    "if att_per < 75:\n",
    "    print(\"Therefore, student is NOT allowed to sit in exam.\")\n",
    "else:\n",
    "    print(\"Therefore, student IS allowed to sit in exam.\")"
   ]
  },
  {
   "attachments": {},
   "cell_type": "markdown",
   "id": "9809d83e",
   "metadata": {},
   "source": [
    "Get an integer N from the user and perform the following actions:\n",
    "\n",
    "if N is odd, print \"weird\"\n",
    "\n",
    "if N is even and in the inclusive range of 2 to 5, print \"Not Weird\"\n",
    "\n",
    "if N is even and in the inclusive range of 6 to 20, print \"Weird\"\n",
    "\n",
    "if N is even and greater than 20, print \"Not Weird\""
   ]
  },
  {
   "cell_type": "code",
   "execution_count": 29,
   "id": "5ae304c1",
   "metadata": {},
   "outputs": [
    {
     "name": "stdout",
     "output_type": "stream",
     "text": [
      "Not Weird\n"
     ]
    }
   ],
   "source": [
    "N = int(input(\"Enter an integer: \"))\n",
    "if N % 2 == 1:\n",
    "    print(\"Weird\")\n",
    "elif N % 2 == 0 and 2 <= N <= 5:\n",
    "    print(\"Not Weird\")\n",
    "elif N % 2 == 0 and 6 <= N <= 20:\n",
    "    print(\"Weird\")\n",
    "elif N % 2 == 0 and N > 20:\n",
    "    print(\"Not Weird\")"
   ]
  },
  {
   "attachments": {},
   "cell_type": "markdown",
   "id": "4981afa6",
   "metadata": {},
   "source": [
    "Define \"recursion\""
   ]
  },
  {
   "cell_type": "code",
   "execution_count": 30,
   "id": "bba9d892",
   "metadata": {},
   "outputs": [
    {
     "name": "stdout",
     "output_type": "stream",
     "text": [
      "The 6th number in the Fibonacci sequence is 8\n"
     ]
    }
   ],
   "source": [
    "# Recursion is when a function calls itself in an effort to solve a problem by breaking it down into smaller tasks.\n",
    "\n",
    "def fibonacci(n):\n",
    "    if n <= 0:\n",
    "        return 0\n",
    "    elif n == 1:\n",
    "        return 1\n",
    "    else:\n",
    "        return fibonacci(n-1) + fibonacci(n-2)\n",
    "\n",
    "n = 6\n",
    "print(f\"The {n}th number in the Fibonacci sequence is {fibonacci(n)}\")"
   ]
  },
  {
   "attachments": {},
   "cell_type": "markdown",
   "id": "37446795",
   "metadata": {},
   "source": [
    "Describe the difference between a for-loop and while-loop"
   ]
  },
  {
   "cell_type": "code",
   "execution_count": 33,
   "id": "41a19fbf",
   "metadata": {},
   "outputs": [],
   "source": [
    "# Both for-loops and while-loops iterate over a block of code, albeit in different ways and for different reasons.\n",
    "\n",
    "# For-loops iterate over iterable objects (such as lists, tuples, strings, etc.) and they continue until the end of the sequence is reached.\n",
    "# Example:\n",
    "# for element in sequence:\n",
    "#     code block to be executed\n",
    "\n",
    "# While-loops repeatedly execute a block of code so long as a certain condition is true, and they end when the condition is false.\n",
    "# Example:\n",
    "# while condition:\n",
    "    # code block to be executed"
   ]
  },
  {
   "attachments": {},
   "cell_type": "markdown",
   "id": "a4726330",
   "metadata": {},
   "source": [
    "Describe what \"global i\" refers to in the following code, and how it differs from local i."
   ]
  },
  {
   "cell_type": "code",
   "execution_count": 36,
   "id": "2c17bb30",
   "metadata": {},
   "outputs": [
    {
     "name": "stdout",
     "output_type": "stream",
     "text": [
      "2\n",
      "5\n",
      "5\n"
     ]
    }
   ],
   "source": [
    "# \"Global i\" refers to the variable \"i\" that is defined globally, outside of the function.\n",
    "# Though, as seen below, the \"Global i\" can still be used within the function if specified as \"global i\" within the function itself.\n",
    "# In doing so, the \"global i\" is therefore affected by the function.\n",
    "\n",
    "# \"Local i\" would otherwise refer to a variable \"i\" that is defined within the function, having nothing to do with the \"global i\" as defined outside of the function.\n",
    "# If \"global i\" were removed from this code, the function would not affect the \"global i\", and the final print-out would be \"2\" instead of \"5\".\n",
    "\n",
    "i=2\n",
    "print(i)\n",
    "\n",
    "def nothing():\n",
    "    global i\n",
    "    i=5      \n",
    "    print(i)\n",
    "nothing()\n",
    "print(i)"
   ]
  },
  {
   "attachments": {},
   "cell_type": "markdown",
   "id": "99bbec99",
   "metadata": {},
   "source": [
    "Comment the following code."
   ]
  },
  {
   "cell_type": "code",
   "execution_count": 37,
   "id": "181d5fa6",
   "metadata": {},
   "outputs": [
    {
     "name": "stdout",
     "output_type": "stream",
     "text": [
      "[1, 1, 2, 3, 5, 8, 13, 21, 34, 55, 89]\n"
     ]
    }
   ],
   "source": [
    "a, b = 0, 1     # Initialize the first two numbers in a fibonacci sequence by defining two variables as 0 and 1 respectively.\n",
    "amax = 100      # Set the maximum value for the numbers in the sequence by defining another variable as 100.\n",
    "L = []          # Create an empty list to store the numbers.\n",
    "\n",
    "while True:                 # Start a while-loop.\n",
    "    (a, b) = (b, a + b)     # Generate the next numbers in the sequence; update a and b.\n",
    "    if a > amax:            # Check if the new number is greater-than the desired max.\n",
    "        break               # If so, break the loop.\n",
    "    L.append(a)             # If not, append the new number to the list.\n",
    "\n",
    "print(L)"
   ]
  },
  {
   "attachments": {},
   "cell_type": "markdown",
   "id": "f417cd5b",
   "metadata": {},
   "source": [
    "<b> Bonus Exercises </b>"
   ]
  },
  {
   "attachments": {},
   "cell_type": "markdown",
   "id": "5eea9b56",
   "metadata": {},
   "source": [
    "Bonus: Write a Python function to convert a tuple to a string."
   ]
  },
  {
   "cell_type": "code",
   "execution_count": null,
   "id": "dd50e2f8",
   "metadata": {},
   "outputs": [],
   "source": []
  },
  {
   "attachments": {},
   "cell_type": "markdown",
   "id": "8b6604eb",
   "metadata": {},
   "source": [
    "Bonus: Write a Python program to print a tuple with string formatting. You will need to look into print function parameters and string formatting methods."
   ]
  },
  {
   "cell_type": "code",
   "execution_count": null,
   "id": "10aa0dab",
   "metadata": {},
   "outputs": [],
   "source": []
  },
  {
   "attachments": {},
   "cell_type": "markdown",
   "id": "d22b9747",
   "metadata": {},
   "source": [
    "Bonus: Define what a \"hash\" is. Then, get a space-separated list of integers from the user, create a tuple of those integers. Then compute and print the result of hash(tuple).  [Hint](https://docs.python.org/3/library/functions.html#hash). **Hash()**\n",
    "\n",
    "A **[hash](https://en.wikipedia.org/wiki/Hash_function)** is an fixed sized integer that identifies a particular value. Each value needs to have its own hash, so for the same value you will get the same hash even if it's not the same object."
   ]
  },
  {
   "cell_type": "code",
   "execution_count": null,
   "id": "b9ccab42",
   "metadata": {},
   "outputs": [],
   "source": []
  },
  {
   "attachments": {},
   "cell_type": "markdown",
   "id": "4cf6ba94",
   "metadata": {},
   "source": [
    "Bonus: In mathematics, the quadratic equation ax2+bx+c=0 can be solved with the formula x=−b±√((b2−4ac)/2a).\n",
    "\n",
    "Write a function solve_quadratic, that returns both solutions of a generic quadratic as a pair (2-tuple) when the coefficients are given as parameters. It should work like this:\n",
    "\n",
    "print(solve_quadratic(1,-3,2))\n",
    "(2.0,1.0)\n",
    "print(solve_quadratic(1,2,1))\n",
    "(-1.0,-1.0)\n",
    "You may want to use the math.sqrt function from the math module in your solution. Test that your function works in the main function!"
   ]
  },
  {
   "cell_type": "code",
   "execution_count": null,
   "id": "23b36302",
   "metadata": {},
   "outputs": [],
   "source": []
  },
  {
   "attachments": {},
   "cell_type": "markdown",
   "id": "09eb1a66",
   "metadata": {},
   "source": [
    "Bonus: Write a Python function that accepts a string and calculate the number of upper case letters and lower case letters."
   ]
  },
  {
   "cell_type": "code",
   "execution_count": null,
   "id": "fb698d22",
   "metadata": {},
   "outputs": [],
   "source": []
  },
  {
   "attachments": {},
   "cell_type": "markdown",
   "id": "9c555a0e",
   "metadata": {},
   "source": [
    "<b> Final Bonus: Recursion </b>\n",
    "\n",
    "Tower of Hanoi (Python Program)\n",
    "\n",
    "Tower of Hanoi is a mathematical puzzle where we have three rods and n disks. The objective of the puzzle is to move the entire stack to another rod, obeying the following simple rules:\n",
    "\n",
    "Only one disk can be moved at a time.\n",
    "Each move consists of taking the upper disk from one of the stacks and placing it on top of another stack i.e. a disk can only be moved if it is the uppermost disk on a stack.\n",
    "No disk may be placed on top of a smaller disk.\n",
    "Note: Transferring the top n-1 disks from source rod to Auxilliary rod can again be thought of as a fresh problem and can be solved in the same manner.\n",
    "\n",
    "See image and solution in Notebook-Python-0303. "
   ]
  },
  {
   "cell_type": "code",
   "execution_count": null,
   "id": "6640ab46",
   "metadata": {},
   "outputs": [],
   "source": []
  }
 ],
 "metadata": {
  "kernelspec": {
   "display_name": "Python 3",
   "language": "python",
   "name": "python3"
  },
  "language_info": {
   "codemirror_mode": {
    "name": "ipython",
    "version": 3
   },
   "file_extension": ".py",
   "mimetype": "text/x-python",
   "name": "python",
   "nbconvert_exporter": "python",
   "pygments_lexer": "ipython3",
   "version": "3.9.6"
  }
 },
 "nbformat": 4,
 "nbformat_minor": 5
}
