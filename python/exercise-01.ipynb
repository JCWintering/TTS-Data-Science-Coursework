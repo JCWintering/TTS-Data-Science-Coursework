{
 "cells": [
  {
   "attachments": {},
   "cell_type": "markdown",
   "id": "630e7a18",
   "metadata": {},
   "source": [
    "<b> Exercises for Python Module 1 </b>\n",
    "\n",
    "Make sure to comment all your code!"
   ]
  },
  {
   "attachments": {},
   "cell_type": "markdown",
   "id": "27e339a6",
   "metadata": {},
   "source": [
    "Accept the user's first and last name and print them in reverse order with a space between them. \n",
    "\n",
    "Keyword hints: print function, input function, append, add, string"
   ]
  },
  {
   "cell_type": "code",
   "execution_count": 3,
   "id": "622a3ae7",
   "metadata": {},
   "outputs": [
    {
     "name": "stdout",
     "output_type": "stream",
     "text": [
      "Wintering Joel\n"
     ]
    }
   ],
   "source": [
    "first_name = input(\"First name: \")\n",
    "last_name = input(\"Last name: \")\n",
    "# these two lines create unique variables for the first name & last name, respectively\n",
    "# using input functions, the variables are defined by user input\n",
    "\n",
    "print(last_name + \" \" + first_name)\n",
    "# using the print function, the variables are printed in the desired order/format\n",
    "# the variables are printed in the desired order due to the order they are concatenated within the function\n",
    "# a space is added between the two variables simply by entering a string consisting of a space"
   ]
  },
  {
   "attachments": {},
   "cell_type": "markdown",
   "id": "0e682cbf",
   "metadata": {},
   "source": [
    "Ask the user \"What country are you from?\" then print the following statement: \"I have heard that [input] is a beautiful country!\""
   ]
  },
  {
   "cell_type": "code",
   "execution_count": 4,
   "id": "f6b2cc68",
   "metadata": {},
   "outputs": [
    {
     "name": "stdout",
     "output_type": "stream",
     "text": [
      "I have heard that America is a beautiful country!\n"
     ]
    }
   ],
   "source": [
    "home_country = input(\"What country are you from? \")\n",
    "# this line creates a variable for the country the user is from\n",
    "# using the input function, the variable is defined by user input\n",
    "\n",
    "print(\"I have heard that \" + home_country + \" is a beautiful country!\")\n",
    "# using the print function, the variable is printed within the desired statement\n",
    "# this is achieved by nesting the variable between two manually entered strings"
   ]
  },
  {
   "attachments": {},
   "cell_type": "markdown",
   "id": "217d837d",
   "metadata": {},
   "source": [
    "Explain the output for:\n",
    "\n",
    "x = 36 / 4 * (3 +  2) * 4 + 2"
   ]
  },
  {
   "cell_type": "code",
   "execution_count": 5,
   "id": "51ffb736",
   "metadata": {},
   "outputs": [
    {
     "name": "stdout",
     "output_type": "stream",
     "text": [
      "182.0\n"
     ]
    }
   ],
   "source": [
    "x = 36 / 4 * (3 + 2) * 4 + 2\n",
    "# this line creates a variable, which is defined by the result of the equation\n",
    "\n",
    "print(x)\n",
    "# this line prints the variable, as defined by the result of the equation\n",
    "\n",
    "# the result of the equation (\"the output\") can be explained as follows:\n",
    "\n",
    "# firstly, calculate what is within the parenthesis\n",
    "#     3 + 2 = 5\n",
    "#     So, x = 36 / 4 * 5 * 4 + 2\n",
    "\n",
    "# secondly, calculate the multiplication & division from left to right\n",
    "#     36 / 4 = 9\n",
    "#     So, x = 9 * 5 * 4 + 2\n",
    "\n",
    "#     9 * 5 = 45\n",
    "#     So, x = 45 * 4 + 2\n",
    "\n",
    "#     45 * 4 = 180\n",
    "#     So, x = 180 + 2\n",
    "\n",
    "# lastly, calculate the addition\n",
    "#     180 + 2 = 182\n",
    "#     So, x = 182\n",
    "\n",
    "# note, the reason there is a \".0\" at the end of the result is because \"/\" is used for the division math\n",
    "# if \"//\" was used for the division math instead, the result would simply be \"182\""
   ]
  },
  {
   "attachments": {},
   "cell_type": "markdown",
   "id": "7b77d65d",
   "metadata": {},
   "source": [
    "What is the output of the following code and what arithmetic operators is being used here? \n",
    "\n",
    "print(2%6)"
   ]
  },
  {
   "cell_type": "code",
   "execution_count": 6,
   "id": "a819b258",
   "metadata": {},
   "outputs": [
    {
     "name": "stdout",
     "output_type": "stream",
     "text": [
      "2\n"
     ]
    }
   ],
   "source": [
    "print(2%6)\n",
    "\n",
    "# the operator being used here is called the modulo\n",
    "# it returns the remainder after dividing the first number by the second number\n",
    "# in this example, 2 is less-than 6, so you can't divide 2 by 6\n",
    "# therefore, the quotient is 0, and the remainder (\"the output\") is still 2"
   ]
  },
  {
   "attachments": {},
   "cell_type": "markdown",
   "id": "b2f2fe38",
   "metadata": {},
   "source": [
    "What is the output of the following code and what arithmetic operators are used here? \n",
    "\n",
    "print(2 * 3 ** 3 * 4)"
   ]
  },
  {
   "cell_type": "code",
   "execution_count": 7,
   "id": "5a218db8",
   "metadata": {},
   "outputs": [
    {
     "name": "stdout",
     "output_type": "stream",
     "text": [
      "216\n"
     ]
    }
   ],
   "source": [
    "print(2 * 3 ** 3 * 4)\n",
    "\n",
    "# the unique operator being used here (\"**\") is the exponentiation operator\n",
    "# in this example, it is multiplying 3 to the power of 3, which is 27\n",
    "# the other operators being used here (\"*\") are the multiplication operator\n",
    "# using order of operations for the equation, the output is 216"
   ]
  },
  {
   "attachments": {},
   "cell_type": "markdown",
   "id": "c7ccc477",
   "metadata": {},
   "source": [
    "Accept an integer (n) and compute the value of n+nn+nnn. For example, if n = 4, then n+nn+nnn should equal 492. \n",
    "\n",
    "Keyword hints: Hint(4+44+444)"
   ]
  },
  {
   "cell_type": "code",
   "execution_count": 8,
   "id": "34078483",
   "metadata": {},
   "outputs": [
    {
     "name": "stdout",
     "output_type": "stream",
     "text": [
      "492\n"
     ]
    }
   ],
   "source": [
    "n = int(input(\"Enter an integer for the equation! \"))\n",
    "# this line creates a variable \"n\"\n",
    "# using the input function, the variable is defined by user input\n",
    "# using the integer function in conjunction, the user input is \"converted\" from a string to an integer\n",
    "# this ensures the user input is valid (an integer) before proceeding with the following\n",
    "\n",
    "result = n + int(str(n) * 2) + int(str(n) * 3)\n",
    "# this line creates a variable \"result\", which is defined by the result of the equation\n",
    "# the equation involves \"n\", the string function, and the integer function\n",
    "# using the string function, \"n\" is converted back into a string\n",
    "# this seems counter-intuitive given the previous line, but it is necessary for the following\n",
    "# the string \"n\" is then multiplied (repeated) by 2 and 3, in order to add \"nn\" and \"nnn\" into the equation\n",
    "# using the integer function in conjunction, the resulting string is converted back into an integer\n",
    "# again this seems counter-intuitive, but it is necessary for finally computing the answer as an integer\n",
    "\n",
    "print(result)\n",
    "# using the print function, the variable \"result\" is printed"
   ]
  },
  {
   "attachments": {},
   "cell_type": "markdown",
   "id": "cc9d29ed",
   "metadata": {},
   "source": [
    "What is an IDE?"
   ]
  },
  {
   "cell_type": "code",
   "execution_count": 9,
   "id": "8bd82147",
   "metadata": {},
   "outputs": [],
   "source": [
    "# an IDE is an integrated development environment, such as VSCode, which usually features a plethora of developer tools"
   ]
  },
  {
   "attachments": {},
   "cell_type": "markdown",
   "id": "f702b1de",
   "metadata": {},
   "source": [
    "What is a Text Editor?"
   ]
  },
  {
   "cell_type": "code",
   "execution_count": 10,
   "id": "8376072d",
   "metadata": {},
   "outputs": [],
   "source": [
    "# a text editor is a barebones text editing app, such as NotePad for Windows, or TextEdit for MacOS"
   ]
  },
  {
   "attachments": {},
   "cell_type": "markdown",
   "id": "bc31d150",
   "metadata": {},
   "source": [
    "What is  filepath?"
   ]
  },
  {
   "cell_type": "code",
   "execution_count": 11,
   "id": "1526b4ee",
   "metadata": {},
   "outputs": [],
   "source": [
    "# a filepath is the location of a file in a directory\n",
    "# it usually starts with the root directory, followed by a sequence of folders, and ends with the file"
   ]
  },
  {
   "attachments": {},
   "cell_type": "markdown",
   "id": "1a8bf765",
   "metadata": {},
   "source": [
    "Describe Python as a programming language?"
   ]
  },
  {
   "cell_type": "code",
   "execution_count": 12,
   "id": "fd96c663",
   "metadata": {},
   "outputs": [],
   "source": [
    "# Python is a relatively beginner-friendly & general-purpose object oriented programming language with a comprehensive library"
   ]
  },
  {
   "attachments": {},
   "cell_type": "markdown",
   "id": "479cc46c",
   "metadata": {},
   "source": [
    "What is Jupyter Notebook, and how does it differ from other IDEs such as VSCode?"
   ]
  },
  {
   "cell_type": "code",
   "execution_count": 13,
   "id": "b0ab1b33",
   "metadata": {},
   "outputs": [],
   "source": [
    "# jupyter notebook is a simple web-based notebook that is mostly used for testing; allows literal cells/blocks of code to be run individually\n",
    "# it differs from other IDEs such as VSCode in that it uses individual cells to individually compile separate blocks of code within the same file\n",
    "# additionally, IDEs typically have a lot more functionality that is useful for development, such as debugging features"
   ]
  },
  {
   "attachments": {},
   "cell_type": "markdown",
   "id": "8b78b231",
   "metadata": {},
   "source": [
    "What is the difference between a \"code\" cell (at the top of your notebook) and a \"markdown\" cell?"
   ]
  },
  {
   "cell_type": "code",
   "execution_count": 14,
   "id": "e2fad868",
   "metadata": {},
   "outputs": [],
   "source": [
    "# the purpose of a code cell is to compile code\n",
    "# the purpose of a markdown cell is to write text w/ simple markdown abilities"
   ]
  },
  {
   "attachments": {},
   "cell_type": "markdown",
   "id": "d4fcc215",
   "metadata": {},
   "source": [
    "Describe each operator catagory: (Notebook 01_03)"
   ]
  },
  {
   "cell_type": "code",
   "execution_count": 15,
   "id": "e342b817",
   "metadata": {},
   "outputs": [],
   "source": [
    "# arithmetic operators perform basic mathematical operations such as addition, subtraction, multiplication, and division\n",
    "# bitwise operators perform bitwise operations on integer values, as binary numbers; not very common\n",
    "# assignment operators assign values to variables\n",
    "# comparison operators simply compare two variables/values, and return as true or false depending on the comparison\n",
    "# boolean operators can be used to combine multiple comparison operators, and return as true or false depending on the comparisons\n",
    "# identity & membership operators can be used to compare the \"location\" of objects, and/or determine if a value is part of a list, string, etc."
   ]
  },
  {
   "attachments": {},
   "cell_type": "markdown",
   "id": "7d048f8c",
   "metadata": {},
   "source": [
    "Describe what the phrase \"everything is an object\" means in Python; what is an object?"
   ]
  },
  {
   "cell_type": "code",
   "execution_count": 16,
   "id": "185d1f68",
   "metadata": {},
   "outputs": [],
   "source": [
    "# because python is an object oriented language, at a fundamental level it means that nearly everything exists as an \"object\" in memory\n",
    "# for example, when you define a variable, python creates a pointer to an object in memory that \"represents\" the variable and its class"
   ]
  }
 ],
 "metadata": {
  "kernelspec": {
   "display_name": "Python 3 (ipykernel)",
   "language": "python",
   "name": "python3"
  },
  "language_info": {
   "codemirror_mode": {
    "name": "ipython",
    "version": 3
   },
   "file_extension": ".py",
   "mimetype": "text/x-python",
   "name": "python",
   "nbconvert_exporter": "python",
   "pygments_lexer": "ipython3",
   "version": "3.9.6"
  }
 },
 "nbformat": 4,
 "nbformat_minor": 5
}
